{
 "cells": [
  {
   "cell_type": "code",
   "execution_count": 1,
   "id": "4561e885-1e71-48fd-9dd2-8a204328eaeb",
   "metadata": {},
   "outputs": [],
   "source": [
    "import random"
   ]
  },
  {
   "cell_type": "code",
   "execution_count": 2,
   "id": "70d66e94-f474-4c5e-90b9-31151032be55",
   "metadata": {},
   "outputs": [],
   "source": [
    "import sys"
   ]
  },
  {
   "cell_type": "code",
   "execution_count": 3,
   "id": "82d4060b-2e01-4f5b-bc70-569515e648eb",
   "metadata": {},
   "outputs": [
    {
     "name": "stdout",
     "output_type": "stream",
     "text": [
      "/home/cm/anaconda3/envs/nlp_stanford\n"
     ]
    }
   ],
   "source": [
    "print(sys.prefix)"
   ]
  },
  {
   "cell_type": "code",
   "execution_count": 4,
   "id": "66be2728-fd8f-4f7c-a83c-05bf176db175",
   "metadata": {},
   "outputs": [
    {
     "name": "stdout",
     "output_type": "stream",
     "text": [
      "total 20K\n",
      "drwxrwxr-x  3 cm cm 4.0K Apr  9 17:10 .\n",
      "-rw-rw-r--  1 cm cm 1.9K Apr  9 17:10 playground.ipynb\n",
      "drwxr-xr-x  2 cm cm 4.0K Apr  5 16:34 .ipynb_checkpoints\n",
      "drwxrwxr-x 11 cm cm 4.0K Apr  5 16:31 ..\n",
      "-rwxrwxr-x  1 cm cm  168 Apr  5 16:31 start.sh\n"
     ]
    }
   ],
   "source": [
    "!ls -lath"
   ]
  },
  {
   "cell_type": "code",
   "execution_count": null,
   "id": "37f0b6f5-ed72-43be-9114-15919ff63551",
   "metadata": {},
   "outputs": [],
   "source": []
  }
 ],
 "metadata": {
  "kernelspec": {
   "display_name": "nlp_stanford",
   "language": "python",
   "name": "nlp_stanford"
  },
  "language_info": {
   "codemirror_mode": {
    "name": "ipython",
    "version": 3
   },
   "file_extension": ".py",
   "mimetype": "text/x-python",
   "name": "python",
   "nbconvert_exporter": "python",
   "pygments_lexer": "ipython3",
   "version": "3.13.2"
  }
 },
 "nbformat": 4,
 "nbformat_minor": 5
}
