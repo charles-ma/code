{
 "cells": [
  {
   "cell_type": "code",
   "execution_count": 1,
   "id": "4561e885-1e71-48fd-9dd2-8a204328eaeb",
   "metadata": {},
   "outputs": [],
   "source": [
    "import random"
   ]
  },
  {
   "cell_type": "code",
   "execution_count": 4,
   "id": "d5171c45-1d92-4ca0-9964-92af003e48d1",
   "metadata": {},
   "outputs": [
    {
     "name": "stdin",
     "output_type": "stream",
     "text": [
      "please give your name:\n",
      " micheal\n"
     ]
    }
   ],
   "source": [
    "name = input('please give your name:\\n')"
   ]
  },
  {
   "cell_type": "code",
   "execution_count": 5,
   "id": "ae360056-6ded-4894-8261-21cff90ede50",
   "metadata": {},
   "outputs": [
    {
     "name": "stdout",
     "output_type": "stream",
     "text": [
      "micheal\n"
     ]
    }
   ],
   "source": [
    "print(name)"
   ]
  },
  {
   "cell_type": "code",
   "execution_count": null,
   "id": "70d66e94-f474-4c5e-90b9-31151032be55",
   "metadata": {},
   "outputs": [],
   "source": []
  }
 ],
 "metadata": {
  "kernelspec": {
   "display_name": "Python 3 (ipykernel)",
   "language": "python",
   "name": "python3"
  },
  "language_info": {
   "codemirror_mode": {
    "name": "ipython",
    "version": 3
   },
   "file_extension": ".py",
   "mimetype": "text/x-python",
   "name": "python",
   "nbconvert_exporter": "python",
   "pygments_lexer": "ipython3",
   "version": "3.12.7"
  }
 },
 "nbformat": 4,
 "nbformat_minor": 5
}
